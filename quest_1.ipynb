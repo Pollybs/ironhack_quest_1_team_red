{
 "cells": [
  {
   "cell_type": "code",
   "execution_count": 7,
   "metadata": {
    "collapsed": false
   },
   "outputs": [
   ],
   "source": [
    "# define rooms and items\n",
    "riddle = {\n",
    "    \"name\": \"riddle\",\n",
    "    \"type\": \"riddle\",\n",
    "}\n",
    "\n",
    "plant = {\n",
    "    \"name\": \"plant\",\n",
    "    \"type\": \"plant\",\n",
    "}\n",
    "\n",
    "Andy = {\n",
    "    \"name\": \"Andy\",\n",
    "    \"type\": \"Andy\",\n",
    "}\n",
    "\n",
    "\n",
    "vase={\n",
    "    \"name\": \"vase\",\n",
    "    \"type\": \"vase\",\n",
    "}\n",
    "\n",
    "cat = {\n",
    "    \"name\": \"cat\",\n",
    "    \"type\": \"cat\",\n",
    "}\n",
    "\n",
    "clock = {\n",
    "    \"name\": \"clock\",\n",
    "    \"type\": \"clock\",\n",
    "}\n",
    "\n",
    "painting = {\n",
    "    \"name\": \"painting\",\n",
    "    \"type\": \"painting\",\n",
    "}\n",
    "\n",
    "couch = {\n",
    "    \"name\": \"couch\",\n",
    "    \"type\": \"couch\",\n",
    "}\n",
    "\n",
    "door_a = {\n",
    "    \"name\": \"door a\",\n",
    "    \"type\": \"door\",\n",
    "}\n",
    "\n",
    "key_a = {\n",
    "    \"name\": \"key for door a\",\n",
    "    \"type\": \"key\",\n",
    "    \"target\": door_a,\n",
    "}\n",
    "\n",
    "door_b = {\n",
    "    \"name\": \"door b\",\n",
    "    \"type\": \"door\",\n",
    "}\n",
    "\n",
    "key_b = {\n",
    "    \"name\": \"key for door b\",\n",
    "    \"type\": \"key\",\n",
    "    \"target\": door_b,\n",
    "}\n",
    "\n",
    "door_c= {\n",
    "    \"name\": \"door c\",\n",
    "    \"type\": \"door\",\n",
    "}\n",
    "\n",
    "key_c = {\n",
    "    \"name\": \"key for door c\",\n",
    "    \"type\": \"key\",\n",
    "    \"target\": door_c,\n",
    "}\n",
    "\n",
    "door_d= {\n",
    "    \"name\": \"door d\",\n",
    "    \"type\": \"door\",\n",
    "}\n",
    "\n",
    "key_d = {\n",
    "    \"name\": \"key for door d\",\n",
    "    \"type\": \"key\",\n",
    "    \"target\": door_d,\n",
    "}\n",
    "\n",
    "golden_door = {\n",
    "    \"name\": \"golden door\",\n",
    "    \"type\": \"door\",\n",
    "}\n",
    "\n",
    "key_e = {\n",
    "    \"name\": \"golden key\",\n",
    "    \"type\": \"key\",\n",
    "    \"target\": golden_door,\n",
    "}\n",
    "\n",
    "\n",
    "piano = {\n",
    "    \"name\": \"piano\",\n",
    "    \"type\": \"furniture\",\n",
    "}\n",
    "\n",
    "double_bed = {\n",
    "    \"name\": \"double bed\",\n",
    "    \"type\": \"furniture\",\n",
    "}\n",
    "\n",
    "queen_bed = {\n",
    "    \"name\": \"queen bed\",\n",
    "    \"type\": \"furniture\",\n",
    "}\n",
    "\n",
    "dresser = {\n",
    "    \"name\": \"dresser\",\n",
    "    \"type\": \"furniture\",\n",
    "}\n",
    "\n",
    "dining_table = {\n",
    "    \"name\": \"dining table\",\n",
    "    \"type\": \"furniture\",\n",
    "}\n",
    "\n",
    "game_room = {\n",
    "    \"name\": \"game room\",\n",
    "    \"type\": \"room\",\n",
    "}\n",
    "\n",
    "bedroom1 = {\n",
    "    \"name\": \"bedroom 1\",\n",
    "    \"type\": \"room\",\n",
    "}\n",
    "\n",
    "bedroom2 = {\n",
    "    \"name\": \"bedroom 2\",\n",
    "    \"type\": \"room\",\n",
    "}\n",
    "\n",
    "living_room = {\n",
    "    \"name\": \"living room\",\n",
    "    \"type\": \"room\",\n",
    "}\n",
    "\n",
    "basement = {\n",
    "  \"name\": \"basement\",\n",
    "  \"type\": \"room\",\n",
    "}\n",
    "\n",
    "outside = {\n",
    "  \"name\": \"outside\"\n",
    "}\n",
    "\n",
    "monster = {\n",
    "    \"name\": \"monster\",\n",
    "    \"type\": \"monster\"\n",
    "}\n",
    "\n",
    "\n",
    "\n",
    "all_rooms = [game_room, bedroom1, bedroom2, living_room, outside, basement]\n",
    "\n",
    "all_doors = [door_a, door_b, door_c, door_d, golden_door]\n",
    "\n",
    "# define which items/rooms are related\n",
    "\n",
    "object_relations = {\n",
    "    \"game room\": [couch, piano, door_a, painting],\n",
    "    \"bedroom 1\": [door_a, door_b, door_c, queen_bed, clock, cat, plant],\n",
    "    \"bedroom 2\": [door_b, double_bed, dresser, cat],\n",
    "    \"living room\": [door_d, door_c, golden_door, dining_table, cat, vase, Andy],\n",
    "    \"basement\": [monster, golden_door],\n",
    "    \"piano\": [key_a],\n",
    "    \"double bed\": [key_c],\n",
    "    \"dresser\": [key_d],\n",
    "    \"queen bed\": [key_b],\n",
    "    \"outside\": [door_d],\n",
    "    \"door a\": [game_room, bedroom1],\n",
    "    \"door b\": [bedroom1, bedroom2],\n",
    "    \"door c\": [bedroom1, living_room],\n",
    "    \"door d\": [living_room, outside],\n",
    "    \"golden door\": [living_room, basement], \n",
    "    \"vase\": [key_e],    \n",
    "    \n",
    "}\n",
    "\n",
    "\n",
    "# define game state. Do not directly change this dict. \n",
    "# Instead, when a new game starts, make a copy of this\n",
    "# dict and use the copy to store gameplay state. This \n",
    "# way you can replay the game multiple times.\n",
    "\n",
    "INIT_GAME_STATE = {\n",
    "    \"current_room\": game_room,\n",
    "    \"keys_collected\": [],\n",
    "    \"target_room\": outside,\n",
    "    \"monster_room\": basement\n",
    "}"
   ]
  },
  {
   "cell_type": "code",
   "execution_count": 0,
   "metadata": {
    "collapsed": false
   },
   "outputs": [
   ],
   "source": [
   ]
  },
  {
   "cell_type": "code",
   "execution_count": 0,
   "metadata": {
    "collapsed": false
   },
   "outputs": [
   ],
   "source": [
   ]
  },
  {
   "cell_type": "code",
   "execution_count": 8,
   "metadata": {
    "collapsed": false
   },
   "outputs": [
   ],
   "source": [
    "from IPython.display import HTML, display\n",
    "\n",
    "cat_gif = 'https://www.icegif.com/wp-content/uploads/cat-icegif-19.gif'\n",
    "time_gif = 'https://i.gifer.com/Ajtj.gif'\n",
    "monster_gif ='https://cdn.dribbble.com/users/986506/screenshots/2703637/media/05fd5447b727a1148d1b9020f1354f74.gif'\n",
    "congrats_gif = 'https://www.funimada.com/assets/images/cards/big/congrats-16.gif'\n",
    "\n",
    "width = 400\n",
    "height = 300\n",
    "\n",
    "text_size = '24px'\n",
    "text_color = 'blue'\n",
    "\n",
    "\n",
    "def linebreak():\n",
    "    \"\"\"\n",
    "    Print a line break\n",
    "    \"\"\"\n",
    "    print(\"\\n\\n\")\n",
    "\n",
    "def start_game():\n",
    "    \"\"\"\n",
    "    Start the game\n",
    "    \"\"\"\n",
    "    print(\"You wake up on a couch and find yourself in a strange house with no windows which you have never been to before. You don't remember why you are here and what had happened before. You feel some unknown danger is approaching and you must get out of the house, NOW!\")\n",
    "    play_room(game_state[\"current_room\"])\n",
    "\n",
    "def play_room(room):\n",
    "    \"\"\"\n",
    "    Play a room. First check if the room being played is the target room.\n",
    "    If it is, the game will end with success. If the room is the basement, the game is over. \n",
    "    Otherwise, let player either \n",
    "    explore (list all items in this room) or examine an item found here.\n",
    "    \"\"\"\n",
    "    game_state[\"current_room\"] = room\n",
    "    if(game_state[\"current_room\"] == game_state[\"target_room\"]):\n",
    "        print(\"Congrats! You escaped the room!\")\n",
    "        display(HTML(f'<img src=\"{congrats_gif}\" alt=\"gif\" width=\"{width}\" height=\"{height}\">'))   \n",
    "    elif(game_state[\"current_room\"] == game_state[\"monster_room\"]):\n",
    "        decision = input(\"Wow, you have arrived in a basement, it`s cold and dark. Do you want to 'explore' or 'return?''\").strip()\n",
    "        if decision == \"explore\":\n",
    "            import urllib.request \n",
    "            from PIL import Image \n",
    "            print(\"Oh no, wrong choice, there is a huge monster in the basement. You lost the game.\")\n",
    "            display(HTML(f'<img src=\"{monster_gif}\" alt=\"gif\" width=\"{width}\" height=\"{height}\">')) \n",
    "        elif decision == \"return\":\n",
    "            play_room(living_room)\n",
    "        else:\n",
    "            print(\"Not sure what you mean. Type 'explore' or 'return'.\")\n",
    "            play_room(room)\n",
    "    else:\n",
    "        print(\"You are now in \" + room[\"name\"])\n",
    "        intended_action = input(\"What would you like to do? Type 'explore' or 'examine'?\").strip()\n",
    "        if intended_action == \"explore\":\n",
    "            explore_room(room)\n",
    "            play_room(room)\n",
    "        elif intended_action == \"examine\":\n",
    "            examine_item(input(\"What would you like to examine?\").strip())\n",
    "        else:\n",
    "            print(\"Not sure what you mean. Type 'explore' or 'examine'.\")\n",
    "            play_room(room)\n",
    "        linebreak()\n",
    "\n",
    "def explore_room(room):\n",
    "    \"\"\"\n",
    "    Explore a room. List all items belonging to this room.\n",
    "    \"\"\"\n",
    "    items = [i[\"name\"] for i in object_relations[room[\"name\"]]]\n",
    "    print(\"You explore the room. This is \" + room[\"name\"] + \". You find \" + \", \".join(items))\n",
    "\n",
    "def get_next_room_of_door(door, current_room):\n",
    "    \"\"\"\n",
    "    From object_relations, find the two rooms connected to the given door.\n",
    "    Return the room that is not the current_room.\n",
    "    \"\"\"\n",
    "    connected_rooms = object_relations[door[\"name\"]]\n",
    "    for room in connected_rooms:\n",
    "        if(not current_room == room):\n",
    "            return room\n",
    " \n",
    "def mini_game_1():\n",
    "    \"\"\"\n",
    "    A riddle played in game room when examine \"couch\" .\n",
    "    \"\"\"\n",
    "    answer = \"piano\"\n",
    "    for i in range(5):\n",
    "        guess = input(\"Looks like you found a box with some kind of riddle in it . The riddle is : I am something that can be played but doesn’t require balls.I have many black and white keys, and strings, hammers and some pedals. Who am i ? \").lower()\n",
    "        if answer == guess:\n",
    "            print(\"The answer is correct! Good job! Now you know where to look ;)\")\n",
    "            return True\n",
    "        else:\n",
    "            print(\"Looks like you are getting stuck in here! Try again!\")\n",
    "\n",
    "    print(\"Out of attempts! Maybe try exploring somewhere else.\")\n",
    "    return False\n",
    "    \n",
    "def examine_item(item_name):\n",
    "    \"\"\"\n",
    "    Examine an item which can be a door or furniture.\n",
    "    First make sure the intended item belongs to the current room.\n",
    "    Then check if the item is a door. Tell player if key hasn't been \n",
    "    collected yet. Otherwise ask player if they want to go to the next\n",
    "    room. If the item is not a door, then check if it contains keys.\n",
    "    Collect the key if found and update the game state. At the end,\n",
    "    play either the current or the next room depending on the game state\n",
    "    to keep playing.\n",
    "    \"\"\"\n",
    "    current_room = game_state[\"current_room\"]\n",
    "    next_room = \"\"\n",
    "    output = None\n",
    "    \n",
    "    #//////////////////////////////////////////////////////////\n",
    "    for item in object_relations[current_room[\"name\"]]:\n",
    "        if item_name == \"cat\" and current_room[\"name\"] == \"bedroom 1\":\n",
    "            ans = str(input(\"\\033[1mI have just one life, but with eight to spare, I am usually friendly, \\nbut I sometimes act like I don't care. What am I?\\033[0m\"))\n",
    "            if ans == \"cat\":\n",
    "                display(HTML(f'<div style=\"font-size: {text_size}; color: {text_color}\"><b>CORRECT! Check the queen bed for the key.</b></div>'))\n",
    "                display(HTML(f'<img src=\"{cat_gif}\" alt=\"gif\" width=\"{width}\" height=\"{height}\">'))\n",
    "                break\n",
    "            else:\n",
    "                print(\"Nope. try again\")            \n",
    "        elif item_name == \"Andy\":\n",
    "            print(\"\\033[1mHey there ! I've been waiting for you for a while now . I've been hearing noises but i'm not sure what room it is coming from . Be careful out there. \\033[0m\")\n",
    "            break\n",
    "        elif item_name == \"cat\" and current_room[\"name\"] == \"living room\":\n",
    "            print(\"Meoow, I'm scared\")\n",
    "        elif item_name == \"cat\" and current_room[\"name\"] == \"bedroom 2\":\n",
    "            ans = str(input(\"\\033[1mI have just one life, but with eight to spare, I am usually friendly, \\nbut I sometimes act like I don't care. What am I?\\033[0m\"))\n",
    "               \n",
    "            if ans == \"cat\":\n",
    "#                 print(\"\\033[1mCORRECT! Check the dresser for the key.!\\033[0m\")\n",
    "                display(HTML(f'<div style=\"font-size: {text_size}; color: {text_color}\"><b>CORRECT! Check the dresser for the key.</b></div>'))\n",
    "#                 cat_gif = 'https://www.icegif.com/wp-content/uploads/cat-icegif-19.gif'\n",
    "                display(HTML(f'<img src=\"{cat_gif}\" alt=\"gif\" width=\"{width}\" height=\"{height}\">'))\n",
    "                break\n",
    "            else:\n",
    "                print(\"Nope. try again\")\n",
    "                \n",
    "        elif item_name == \"clock\":\n",
    "            ans = str(input(\"\\033[1m A new riddle appears . It says : What is it that is as valuable as gold.\\033[0m\"))\n",
    "            if ans == \"time\":\n",
    "#                 print(\"\\033[1mCORRECT! Check the queen bed for the key.\\033[0m\")\n",
    "                display(HTML(f'<div style=\"font-size: {text_size}; color: {text_color}\"><b>CORRECT! Check the queen bed for the key.</b></div>'))\n",
    "                \n",
    "                display(HTML(f'<img src=\"{time_gif}\" alt=\"gif\" width=\"{width}\" height=\"{height}\">'))\n",
    "                break\n",
    "            else:\n",
    "                print(\"Nope. try again\")\n",
    "        elif item_name == \"plant\":\n",
    "            water_plant=input(\"The plant it`s thirsty. Do you want to water the plant? 'yes' or 'no'\").strip()\n",
    "            if water_plant == \"yes\":\n",
    "                print(\"Good choice. Now the plant is happy and gave you a golden apple. You have a golden apple!\")\n",
    "                play_room(current_room)\n",
    "            elif water_plant == \"no\":\n",
    "                play_room(current_room)\n",
    "            else:\n",
    "                print(\"Not sure what you mean.\")\n",
    "                play_room(current_room)\n",
    "#         else:\n",
    "#             print(\"Not sure what you mean.\")\n",
    "#             play_room(current_room)\n",
    "        \n",
    "    #//////////////////////////////////////////////////////////\n",
    "    \n",
    "    for item in object_relations[current_room[\"name\"]]:\n",
    "        if(item[\"name\"] == item_name):\n",
    "            output = \"You examine \" + item_name + \". \"\n",
    "            if(item[\"type\"]==\"couch\"):\n",
    "                mini_game_1()\n",
    "            elif(item[\"type\"]==\"painting\"):\n",
    "                print(\"The painting has a golden frame and shows a monster. Be careful, maybe this is a hint...\") \n",
    "                print(\"\"\"\\\n",
    "                ヽ༼⊙_⊙༽ﾉ\n",
    "                        \"\"\")\n",
    "            elif(item[\"type\"]==\"cat\"):\n",
    "                output += \"Meowwww\"\n",
    "                print(\"\"\"\\\n",
    "\n",
    "             /\\_/\\\\\n",
    "            ( o.o )\n",
    "             > ^ <\n",
    "                    \"\"\")\n",
    "            elif(item[\"type\"] == \"door\"):\n",
    "                have_key = False\n",
    "                for key in game_state[\"keys_collected\"]:\n",
    "                    if(key[\"target\"] == item):\n",
    "                        have_key = True\n",
    "                if(have_key):\n",
    "                    output += \"You unlock it with a key you have.\"\n",
    "                    next_room = get_next_room_of_door(item, current_room)        \n",
    "            \n",
    "                else:\n",
    "                    output += \"It is locked but you don't have the key.\"\n",
    "            else:\n",
    "                if(item[\"name\"] in object_relations and len(object_relations[item[\"name\"]])>0):\n",
    "                    item_found = object_relations[item[\"name\"]].pop()\n",
    "                    game_state[\"keys_collected\"].append(item_found)\n",
    "                    output += \"You find \" + item_found[\"name\"] + \".\"\n",
    "                else:\n",
    "                    output += \"There isn't anything interesting about it.\"\n",
    "            print(output)\n",
    "            break\n",
    "\n",
    "    if(output is None):\n",
    "        print(\"The item you requested is not found in the current room.\")\n",
    "    \n",
    "    if(next_room and input(\"Do you want to go to the next room? Enter 'yes' or 'no'\").strip() == 'yes'):\n",
    "        play_room(next_room)\n",
    "    else:\n",
    "        play_room(current_room)"
   ]
  },
  {
   "cell_type": "markdown",
   "metadata": {
    "collapsed": false
   },
   "source": [
   ]
  },
  {
   "cell_type": "code",
   "execution_count": 3,
   "metadata": {
    "cocalc": {
     "outputs": {
      "1": {
       "name": "input",
       "opts": {
        "password": false,
        "prompt": "What would you like to do? Type 'explore' or 'examine'?"
       },
       "output_type": "stream",
       "value": "examine"
      },
      "11": {
       "name": "input",
       "opts": {
        "password": false,
        "prompt": "What would you like to do? Type 'explore' or 'examine'?"
       },
       "output_type": "stream",
       "value": "examine"
      },
      "12": {
       "name": "input",
       "opts": {
        "password": false,
        "prompt": "What would you like to examine?"
       },
       "output_type": "stream",
       "value": "double bed"
      },
      "14": {
       "name": "input",
       "opts": {
        "password": false,
        "prompt": "What would you like to do? Type 'explore' or 'examine'?"
       },
       "output_type": "stream",
       "value": "queen bed"
      },
      "15": {
       "name": "input",
       "opts": {
        "password": false,
        "prompt": "What would you like to do? Type 'explore' or 'examine'?"
       },
       "output_type": "stream"
      },
      "18": {
       "name": "input",
       "opts": {
        "password": false,
        "prompt": "What would you like to do? Type 'explore' or 'examine'?"
       },
       "output_type": "stream",
       "value": "examine"
      },
      "19": {
       "name": "input",
       "opts": {
        "password": false,
        "prompt": "What would you like to examine?"
       },
       "output_type": "stream",
       "value": "queen bed"
      },
      "2": {
       "name": "input",
       "opts": {
        "password": false,
        "prompt": "What would you like to examine?"
       },
       "output_type": "stream",
       "value": "piano"
      },
      "21": {
       "name": "input",
       "opts": {
        "password": false,
        "prompt": "What would you like to do? Type 'explore' or 'examine'?"
       },
       "output_type": "stream",
       "value": "examine"
      },
      "22": {
       "name": "input",
       "opts": {
        "password": false,
        "prompt": "What would you like to examine?"
       },
       "output_type": "stream",
       "value": "door b"
      },
      "23": {
       "name": "input",
       "opts": {
        "password": false,
        "prompt": "Do you want to go to the next room? Enter 'yes' or 'no'"
       },
       "output_type": "stream"
      },
      "26": {
       "name": "input",
       "opts": {
        "password": false,
        "prompt": "What would you like to do? Type 'explore' or 'examine'?"
       },
       "output_type": "stream",
       "value": "examine"
      },
      "27": {
       "name": "input",
       "opts": {
        "password": false,
        "prompt": "What would you like to examine?"
       },
       "output_type": "stream",
       "value": "dresser"
      },
      "29": {
       "name": "input",
       "opts": {
        "password": false,
        "prompt": "What would you like to do? Type 'explore' or 'examine'?"
       },
       "output_type": "stream",
       "value": "examine"
      },
      "30": {
       "name": "input",
       "opts": {
        "password": false,
        "prompt": "What would you like to examine?"
       },
       "output_type": "stream",
       "value": "double bed"
      },
      "31": {
       "name": "input",
       "opts": {
        "password": false,
        "prompt": "What would you like to do? Type 'explore' or 'examine'?"
       },
       "output_type": "stream"
      },
      "33": {
       "name": "input",
       "opts": {
        "password": false,
        "prompt": "What would you like to examine?"
       },
       "output_type": "stream",
       "value": "door b"
      },
      "35": {
       "name": "input",
       "opts": {
        "password": false,
        "prompt": "Do you want to go to the next room? Enter 'yes' or 'no'"
       },
       "output_type": "stream",
       "value": "yes"
      },
      "36": {
       "name": "input",
       "opts": {
        "password": false,
        "prompt": "What would you like to do? Type 'explore' or 'examine'?"
       },
       "output_type": "stream"
      },
      "38": {
       "name": "input",
       "opts": {
        "password": false,
        "prompt": "What would you like to examine?"
       },
       "output_type": "stream",
       "value": "door c"
      },
      "4": {
       "name": "input",
       "opts": {
        "password": false,
        "prompt": "What would you like to do? Type 'explore' or 'examine'?"
       },
       "output_type": "stream",
       "value": "door a"
      },
      "40": {
       "name": "input",
       "opts": {
        "password": false,
        "prompt": "Do you want to go to the next room? Enter 'yes' or 'no'"
       },
       "output_type": "stream",
       "value": "yes"
      },
      "41": {
       "name": "input",
       "opts": {
        "password": false,
        "prompt": "What would you like to do? Type 'explore' or 'examine'?"
       },
       "output_type": "stream"
      },
      "43": {
       "name": "input",
       "opts": {
        "password": false,
        "prompt": "What would you like to examine?"
       },
       "output_type": "stream",
       "value": "Andy"
      },
      "45": {
       "name": "input",
       "opts": {
        "password": false,
        "prompt": "What would you like to do? Type 'explore' or 'examine'?"
       },
       "output_type": "stream",
       "value": "examine"
      },
      "46": {
       "name": "input",
       "opts": {
        "password": false,
        "prompt": "What would you like to examine?"
       },
       "output_type": "stream",
       "value": "door d"
      },
      "48": {
       "name": "input",
       "opts": {
        "password": false,
        "prompt": "Do you want to go to the next room? Enter 'yes' or 'no'"
       },
       "output_type": "stream",
       "value": "yes"
      },
      "6": {
       "name": "input",
       "opts": {
        "password": false,
        "prompt": "What would you like to do? Type 'explore' or 'examine'?"
       },
       "output_type": "stream",
       "value": "examine"
      },
      "7": {
       "name": "input",
       "opts": {
        "password": false,
        "prompt": "What would you like to examine?"
       },
       "output_type": "stream",
       "value": "door a"
      },
      "8": {
       "name": "input",
       "opts": {
        "password": false,
        "prompt": "Do you want to go to the next room? Enter 'yes' or 'no'"
       },
       "output_type": "stream"
      }
     }
    },
    "collapsed": false
   },
   "outputs": [
    {
     "name": "stdout",
     "output_type": "stream",
     "text": [
      "You wake up on a couch and find yourself in a strange house with no windows which you have never been to before. You don't remember why you are here and what had happened before. You feel some unknown danger is approaching and you must get out of the house, NOW!\n",
      "You are now in game room\n"
     ]
    },
    {
     "name": "stdout",
     "output_type": "stream",
     "text": "What would you like to do? Type 'explore' or 'examine'? examine"
    },
    {
     "name": "stdout",
     "output_type": "stream",
     "text": "What would you like to examine? piano"
    },
    {
     "name": "stdout",
     "output_type": "stream",
     "text": [
      "You examine piano. You find key for door a.\n",
      "You are now in game room\n"
     ]
    },
    {
     "name": "stdout",
     "output_type": "stream",
     "text": "What would you like to do? Type 'explore' or 'examine'? door a"
    },
    {
     "name": "stdout",
     "output_type": "stream",
     "text": [
      "Not sure what you mean. Type 'explore' or 'examine'.\n",
      "You are now in game room\n"
     ]
    },
    {
     "name": "stdout",
     "output_type": "stream",
     "text": "What would you like to do? Type 'explore' or 'examine'? examine"
    },
    {
     "name": "stdout",
     "output_type": "stream",
     "text": "What would you like to examine? door a"
    },
    {
     "name": "stdout",
     "output_type": "stream",
     "text": "Do you want to go to the next room? Enter 'yes' or 'no' "
    },
    {
     "name": "stdout",
     "output_type": "stream",
     "text": [
      "You examine door a. You unlock it with a key you have.\n"
     ],
     "value": "yes"
    },
    {
     "name": "stdout",
     "output_type": "stream",
     "text": [
      "You are now in bedroom 1\n"
     ]
    },
    {
     "name": "stdout",
     "output_type": "stream",
     "text": "What would you like to do? Type 'explore' or 'examine'? examine"
    },
    {
     "name": "stdout",
     "output_type": "stream",
     "text": "What would you like to examine? double bed"
    },
    {
     "name": "stdout",
     "output_type": "stream",
     "text": [
      "The item you requested is not found in the current room.\n",
      "You are now in bedroom 1\n"
     ]
    },
    {
     "name": "stdout",
     "output_type": "stream",
     "text": "What would you like to do? Type 'explore' or 'examine'? queen bed"
    },
    {
     "name": "stdout",
     "output_type": "stream",
     "text": "What would you like to do? Type 'explore' or 'examine'? "
    },
    {
     "name": "stdout",
     "output_type": "stream",
     "text": [
      "Not sure what you mean. Type 'explore' or 'examine'.\n",
      "You are now in bedroom 1\n"
     ],
     "value": "explore"
    },
    {
     "name": "stdout",
     "output_type": "stream",
     "text": [
      "You explore the room. This is bedroom 1. You find door a, door b, door c, queen bed, clock, cat, plant\n",
      "You are now in bedroom 1\n"
     ]
    },
    {
     "name": "stdout",
     "output_type": "stream",
     "text": "What would you like to do? Type 'explore' or 'examine'? examine"
    },
    {
     "name": "stdout",
     "output_type": "stream",
     "text": "What would you like to examine? queen bed"
    },
    {
     "name": "stdout",
     "output_type": "stream",
     "text": [
      "You examine queen bed. You find key for door b.\n",
      "You are now in bedroom 1\n"
     ]
    },
    {
     "name": "stdout",
     "output_type": "stream",
     "text": "What would you like to do? Type 'explore' or 'examine'? examine"
    },
    {
     "name": "stdout",
     "output_type": "stream",
     "text": "What would you like to examine? door b"
    },
    {
     "name": "stdout",
     "output_type": "stream",
     "text": "Do you want to go to the next room? Enter 'yes' or 'no' "
    },
    {
     "name": "stdout",
     "output_type": "stream",
     "text": [
      "You examine door b. You unlock it with a key you have.\n"
     ],
     "value": "yes"
    },
    {
     "name": "stdout",
     "output_type": "stream",
     "text": [
      "You are now in bedroom 2\n"
     ]
    },
    {
     "name": "stdout",
     "output_type": "stream",
     "text": "What would you like to do? Type 'explore' or 'examine'? examine"
    },
    {
     "name": "stdout",
     "output_type": "stream",
     "text": "What would you like to examine? dresser"
    },
    {
     "name": "stdout",
     "output_type": "stream",
     "text": [
      "You examine dresser. You find key for door d.\n",
      "You are now in bedroom 2\n"
     ]
    },
    {
     "name": "stdout",
     "output_type": "stream",
     "text": "What would you like to do? Type 'explore' or 'examine'? examine"
    },
    {
     "name": "stdout",
     "output_type": "stream",
     "text": "What would you like to examine? double bed"
    },
    {
     "name": "stdout",
     "output_type": "stream",
     "text": "What would you like to do? Type 'explore' or 'examine'? "
    },
    {
     "name": "stdout",
     "output_type": "stream",
     "text": [
      "You examine double bed. You find key for door c.\n",
      "You are now in bedroom 2\n"
     ],
     "value": "examine"
    },
    {
     "name": "stdout",
     "output_type": "stream",
     "text": "What would you like to examine? door b"
    },
    {
     "name": "stdout",
     "output_type": "stream",
     "text": [
      "You examine door b. You unlock it with a key you have.\n"
     ]
    },
    {
     "name": "stdout",
     "output_type": "stream",
     "text": "Do you want to go to the next room? Enter 'yes' or 'no' yes"
    },
    {
     "name": "stdout",
     "output_type": "stream",
     "text": "What would you like to do? Type 'explore' or 'examine'? "
    },
    {
     "name": "stdout",
     "output_type": "stream",
     "text": [
      "You are now in bedroom 1\n"
     ],
     "value": "examine"
    },
    {
     "name": "stdout",
     "output_type": "stream",
     "text": "What would you like to examine? door c"
    },
    {
     "name": "stdout",
     "output_type": "stream",
     "text": [
      "You examine door c. You unlock it with a key you have.\n"
     ]
    },
    {
     "name": "stdout",
     "output_type": "stream",
     "text": "Do you want to go to the next room? Enter 'yes' or 'no' yes"
    },
    {
     "name": "stdout",
     "output_type": "stream",
     "text": "What would you like to do? Type 'explore' or 'examine'? "
    },
    {
     "name": "stdout",
     "output_type": "stream",
     "text": [
      "You are now in living room\n"
     ],
     "value": "examine"
    },
    {
     "name": "stdout",
     "output_type": "stream",
     "text": "What would you like to examine? Andy"
    },
    {
     "name": "stdout",
     "output_type": "stream",
     "text": [
      "\u001b[1mHey there ! I've been waiting for you for a while now . I've been hearing noises but i'm not sure what room it is coming from . Be careful out there. \u001b[0m\n",
      "\u001b[1mHey there ! I've been waiting for you for a while now . I've been hearing noises but i'm not sure what room it is coming from . Be careful out there. \u001b[0m\n",
      "\u001b[1mHey there ! I've been waiting for you for a while now . I've been hearing noises but i'm not sure what room it is coming from . Be careful out there. \u001b[0m\n",
      "\u001b[1mHey there ! I've been waiting for you for a while now . I've been hearing noises but i'm not sure what room it is coming from . Be careful out there. \u001b[0m\n",
      "\u001b[1mHey there ! I've been waiting for you for a while now . I've been hearing noises but i'm not sure what room it is coming from . Be careful out there. \u001b[0m\n",
      "\u001b[1mHey there ! I've been waiting for you for a while now . I've been hearing noises but i'm not sure what room it is coming from . Be careful out there. \u001b[0m\n",
      "\u001b[1mHey there ! I've been waiting for you for a while now . I've been hearing noises but i'm not sure what room it is coming from . Be careful out there. \u001b[0m\n",
      "You examine Andy. There isn't anything interesting about it.\n",
      "You are now in living room\n"
     ]
    },
    {
     "name": "stdout",
     "output_type": "stream",
     "text": "What would you like to do? Type 'explore' or 'examine'? examine"
    },
    {
     "name": "stdout",
     "output_type": "stream",
     "text": "What would you like to examine? door d"
    },
    {
     "name": "stdout",
     "output_type": "stream",
     "text": [
      "You examine door d. You unlock it with a key you have.\n"
     ]
    },
    {
     "name": "stdout",
     "output_type": "stream",
     "text": "Do you want to go to the next room? Enter 'yes' or 'no' yes"
    },
    {
     "name": "stdout",
     "output_type": "stream",
     "text": [
      "Congrats! You escaped the room!\n"
     ]
    },
    {
     "data": {
      "text/html": [
       "<img src=\"https://cdn.dribbble.com/users/986506/screenshots/2703637/media/05fd5447b727a1148d1b9020f1354f74.gif\" alt=\"gif\" width=\"400\" height=\"300\">"
      ],
      "text/plain": [
       "<IPython.core.display.HTML object>"
      ]
     },
     "execution_count": 3,
     "metadata": {
     },
     "output_type": "execute_result"
    },
    {
     "name": "stdout",
     "output_type": "stream",
     "text": [
      "\n",
      "\n",
      "\n",
      "\n",
      "\n",
      "\n",
      "\n",
      "\n",
      "\n",
      "\n",
      "\n",
      "\n",
      "\n",
      "\n",
      "\n",
      "\n",
      "\n",
      "\n",
      "\n",
      "\n",
      "\n",
      "\n",
      "\n",
      "\n",
      "\n",
      "\n",
      "\n",
      "\n",
      "\n",
      "\n",
      "\n",
      "\n",
      "\n",
      "\n",
      "\n",
      "\n",
      "\n",
      "\n",
      "\n",
      "\n",
      "\n",
      "\n"
     ]
    }
   ],
   "source": [
    "\n",
    "game_state = INIT_GAME_STATE.copy()\n",
    "start_game()\n"
   ]
  },
  {
   "cell_type": "markdown",
   "metadata": {
    "collapsed": false
   },
   "source": [
   ]
  },
  {
   "cell_type": "code",
   "execution_count": 0,
   "metadata": {
    "collapsed": false
   },
   "outputs": [
   ],
   "source": [
   ]
  }
 ],
 "metadata": {
  "kernelspec": {
   "argv": [
    "/usr/bin/python3",
    "-m",
    "ipykernel",
    "--HistoryManager.enabled=False",
    "--matplotlib=inline",
    "-c",
    "%config InlineBackend.figure_formats = set(['retina'])\nimport matplotlib; matplotlib.rcParams['figure.figsize'] = (12, 7)",
    "-f",
    "{connection_file}"
   ],
   "display_name": "Python 3 (system-wide)",
   "env": {
   },
   "language": "python",
   "metadata": {
    "cocalc": {
     "description": "Python 3 programming language",
     "priority": 100,
     "url": "https://www.python.org/"
    }
   },
   "name": "python3",
   "resource_dir": "/ext/jupyter/kernels/python3"
  },
  "language_info": {
   "codemirror_mode": {
    "name": "ipython",
    "version": 3
   },
   "file_extension": ".py",
   "mimetype": "text/x-python",
   "name": "python",
   "nbconvert_exporter": "python",
   "pygments_lexer": "ipython3",
   "version": "3.10.12"
  }
 },
 "nbformat": 4,
 "nbformat_minor": 4
}